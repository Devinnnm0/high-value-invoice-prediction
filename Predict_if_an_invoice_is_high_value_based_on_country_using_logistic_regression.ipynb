{
  "nbformat": 4,
  "nbformat_minor": 0,
  "metadata": {
    "colab": {
      "provenance": []
    },
    "kernelspec": {
      "name": "python3",
      "display_name": "Python 3"
    },
    "language_info": {
      "name": "python"
    }
  },
  "cells": [
    {
      "cell_type": "code",
      "source": [
        "import pandas as pd\n",
        "from sklearn.model_selection import train_test_split\n",
        "from sklearn.linear_model import LogisticRegression\n",
        "from sklearn.metrics import accuracy_score, classification_report\n",
        "\n",
        "# Load and clean the data\n",
        "df = pd.read_excel('Online Retail.xlsx')\n",
        "df.columns = df.columns.str.strip()\n",
        "df.dropna(subset=['InvoiceNo', 'StockCode', 'Description', 'Quantity', 'InvoiceDate', 'UnitPrice', 'CustomerID', 'Country'], inplace=True)\n",
        "\n",
        "# Create Revenue column\n",
        "df['Revenue'] = df['Quantity'] * df['UnitPrice']\n",
        "\n",
        "# Step 1: Group revenue by InvoiceNo\n",
        "invoice_revenue = df.groupby('InvoiceNo')['Revenue'].sum().reset_index()\n",
        "\n",
        "# Step 2: Create HighValue label\n",
        "threshold = 500  # You can adjust this number if you want\n",
        "invoice_revenue['HighValue'] = (invoice_revenue['Revenue'] > threshold).astype(int)\n",
        "\n",
        "# Step 3: Bring in Country information\n",
        "invoice_country = df[['InvoiceNo', 'Country']].drop_duplicates()\n",
        "invoice_data = pd.merge(invoice_revenue, invoice_country, on='InvoiceNo')\n",
        "\n",
        "# Step 4: One-hot encode country\n",
        "invoice_data = pd.get_dummies(invoice_data, columns=['Country'], drop_first=True)\n",
        "\n",
        "# Step 5: Define features and target\n",
        "X = invoice_data.drop(['InvoiceNo', 'Revenue', 'HighValue'], axis=1)\n",
        "y = invoice_data['HighValue']\n",
        "\n",
        "# Step 6: Train-test split\n",
        "X_train, X_test, y_train, y_test = train_test_split(X, y, test_size=0.2, random_state=42)\n",
        "\n",
        "# Step 7: Train logistic regression\n",
        "model = LogisticRegression(max_iter=1000)\n",
        "model.fit(X_train, y_train)\n",
        "y_pred = model.predict(X_test)\n",
        "\n",
        "# Step 8: Evaluate the model\n",
        "print(\"Accuracy:\", accuracy_score(y_test, y_pred))\n",
        "print(\"\\nClassification Report:\\n\", classification_report(y_test, y_pred))\n"
      ],
      "metadata": {
        "colab": {
          "base_uri": "https://localhost:8080/"
        },
        "id": "7CtCrQgnRE3J",
        "outputId": "31b4313f-9e0b-442a-bb2a-dc9ea6f2fd23"
      },
      "execution_count": 16,
      "outputs": [
        {
          "output_type": "stream",
          "name": "stdout",
          "text": [
            "Accuracy: 0.8019378098242451\n",
            "\n",
            "Classification Report:\n",
            "               precision    recall  f1-score   support\n",
            "\n",
            "           0       0.81      0.99      0.89      3565\n",
            "           1       0.42      0.02      0.03       873\n",
            "\n",
            "    accuracy                           0.80      4438\n",
            "   macro avg       0.61      0.51      0.46      4438\n",
            "weighted avg       0.73      0.80      0.72      4438\n",
            "\n"
          ]
        }
      ]
    }
  ]
}